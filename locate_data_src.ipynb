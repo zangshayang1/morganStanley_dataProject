{
 "cells": [
  {
   "cell_type": "code",
   "execution_count": 1,
   "metadata": {
    "collapsed": false
   },
   "outputs": [],
   "source": [
    "from fred import Fred\n",
    "import numpy as np\n",
    "\n",
    "# reference\n",
    "# http://frb.readthedocs.io/en/latest/usage.html\n",
    "# https://fred.stlouisfed.org/categories/94\n",
    "# https://api.stlouisfed.org/fred/category/series?category_id=94&api_key=a618807035b2674a7041c1a2b2d08e04"
   ]
  },
  {
   "cell_type": "code",
   "execution_count": 21,
   "metadata": {
    "collapsed": false
   },
   "outputs": [],
   "source": [
    "# establish a fred client\n",
    "fr = Fred(api_key='a618807035b2674a7041c1a2b2d08e04', response_type = 'xml')"
   ]
  },
  {
   "cell_type": "code",
   "execution_count": 5,
   "metadata": {
    "collapsed": false
   },
   "outputs": [
    {
     "ename": "NameError",
     "evalue": "name 'fr' is not defined",
     "output_type": "error",
     "traceback": [
      "\u001b[0;31m---------------------------------------------------------------------------\u001b[0m",
      "\u001b[0;31mNameError\u001b[0m                                 Traceback (most recent call last)",
      "\u001b[0;32m<ipython-input-5-629e0da48670>\u001b[0m in \u001b[0;36m<module>\u001b[0;34m()\u001b[0m\n\u001b[1;32m      1\u001b[0m \u001b[0;31m# if we know the series ID — \"DEXJPUS\", we will be able to pull data directly from the server\u001b[0m\u001b[0;34m\u001b[0m\u001b[0;34m\u001b[0m\u001b[0m\n\u001b[1;32m      2\u001b[0m \u001b[0mparams\u001b[0m \u001b[0;34m=\u001b[0m \u001b[0;34m{\u001b[0m\u001b[0;34m'limit'\u001b[0m\u001b[0;34m:\u001b[0m \u001b[0;36m10\u001b[0m\u001b[0;34m}\u001b[0m\u001b[0;34m\u001b[0m\u001b[0m\n\u001b[0;32m----> 3\u001b[0;31m \u001b[0;32mprint\u001b[0m \u001b[0mfr\u001b[0m\u001b[0;34m.\u001b[0m\u001b[0mseries\u001b[0m\u001b[0;34m.\u001b[0m\u001b[0mobservations\u001b[0m\u001b[0;34m(\u001b[0m\u001b[0;34m\"DEXJPUS\"\u001b[0m\u001b[0;34m,\u001b[0m \u001b[0mlimit\u001b[0m \u001b[0;34m=\u001b[0m \u001b[0;36m10\u001b[0m\u001b[0;34m,\u001b[0m \u001b[0msort_order\u001b[0m \u001b[0;34m=\u001b[0m \u001b[0;34m\"desc\"\u001b[0m\u001b[0;34m)\u001b[0m\u001b[0;34m\u001b[0m\u001b[0m\n\u001b[0m",
      "\u001b[0;31mNameError\u001b[0m: name 'fr' is not defined"
     ]
    }
   ],
   "source": [
    "# if we know the series ID — \"DEXJPUS\", we will be able to pull data directly from the server\n",
    "print fr.series.observations(\"DEXJPUS\", sort_order = \"desc\")"
   ]
  },
  {
   "cell_type": "code",
   "execution_count": 2,
   "metadata": {
    "collapsed": false
   },
   "outputs": [
    {
     "ename": "NameError",
     "evalue": "name 'fr' is not defined",
     "output_type": "error",
     "traceback": [
      "\u001b[0;31m---------------------------------------------------------------------------\u001b[0m",
      "\u001b[0;31mNameError\u001b[0m                                 Traceback (most recent call last)",
      "\u001b[0;32m<ipython-input-2-236c0cec9506>\u001b[0m in \u001b[0;36m<module>\u001b[0;34m()\u001b[0m\n\u001b[1;32m      1\u001b[0m \u001b[0;31m# we can change its format and clean our data\u001b[0m\u001b[0;34m\u001b[0m\u001b[0;34m\u001b[0m\u001b[0m\n\u001b[0;32m----> 2\u001b[0;31m \u001b[0;32mprint\u001b[0m \u001b[0mfr\u001b[0m\u001b[0;34m.\u001b[0m\u001b[0mseries\u001b[0m\u001b[0;34m.\u001b[0m\u001b[0mobservations\u001b[0m\u001b[0;34m(\u001b[0m\u001b[0;34m\"DEXJPUS\"\u001b[0m\u001b[0;34m,\u001b[0m \u001b[0msort_order\u001b[0m \u001b[0;34m=\u001b[0m \u001b[0;34m\"desc\"\u001b[0m\u001b[0;34m,\u001b[0m \u001b[0mresponse_type\u001b[0m \u001b[0;34m=\u001b[0m \u001b[0;34m'numpy'\u001b[0m\u001b[0;34m,\u001b[0m \u001b[0mlimit\u001b[0m \u001b[0;34m=\u001b[0m \u001b[0;36m10\u001b[0m\u001b[0;34m)\u001b[0m\u001b[0;34m[\u001b[0m\u001b[0;34m:\u001b[0m\u001b[0;34m,\u001b[0m \u001b[0;34m-\u001b[0m\u001b[0;36m1\u001b[0m\u001b[0;34m]\u001b[0m\u001b[0;34m\u001b[0m\u001b[0m\n\u001b[0m",
      "\u001b[0;31mNameError\u001b[0m: name 'fr' is not defined"
     ]
    }
   ],
   "source": [
    "# we can change its format and clean our data\n",
    "print fr.series.observations(\"DEXJPUS\", sort_order = \"desc\", response_type = 'numpy', limit = 10)[:, -1]"
   ]
  },
  {
   "cell_type": "code",
   "execution_count": 112,
   "metadata": {
    "collapsed": false
   },
   "outputs": [
    {
     "name": "stdout",
     "output_type": "stream",
     "text": [
      "[{u'parent_id': 32991, u'notes': nan, u'id': 22, u'name': u'Interest Rates'}, {u'parent_id': 32991, u'notes': nan, u'id': 15, u'name': u'Exchange Rates'}, {u'parent_id': 32991, u'notes': nan, u'id': 24, u'name': u'Monetary Data'}, {u'parent_id': 32991, u'notes': nan, u'id': 46, u'name': u'Financial Indicators'}, {u'parent_id': 32991, u'notes': nan, u'id': 23, u'name': u'Banking'}, {u'parent_id': 32991, u'notes': nan, u'id': 32360, u'name': u'Business Lending'}, {u'parent_id': 32991, u'notes': u\"In addition to the listed daily intervention series, intra-day series from the Swiss National Bank are available at: \\r\\n\\r\\nhttp://research.stlouisfed.org/fei/\\r\\n\\r\\nUnited Kingdom foreign exchange intervention data can be downloaded from Her Majesty's Treasury at the following:\\r\\nhttp://www.hm-treasury.gov.uk\\r\\n\\r\\nLinks to foreign exchange rate data for: \\r\\nAustralia: http://research.stlouisfed.org/fred2/categories/287\\r\\nGermany: http://research.stlouisfed.org/fred2/categories/277\\r\\nItaly: http://research.stlouisfed.org/fred2/categories/276\\r\\nJapan: http://research.stlouisfed.org/fred2/categories/275\\r\\nSwitzerland: http://research.stlouisfed.org/fred2/categories/257\", u'id': 32145, u'name': u'Foreign Exchange Intervention'}]\n"
     ]
    }
   ],
   "source": [
    "# now the question became how to find the target series ID from all these categories?\n",
    "# we start from a big category ID - 32991, looking for its children categories\n",
    "MONEY_BANK_FINANCE_CATNO = 32991\n",
    "T1 = \"Exchange Rates\"\n",
    "res = fr.category.children(MONEY_BANK_FINANCE_CATNO, response_type = 'dict')\n",
    "print res"
   ]
  },
  {
   "cell_type": "code",
   "execution_count": 113,
   "metadata": {
    "collapsed": false
   },
   "outputs": [],
   "source": [
    "# keep rolling via key word search T1 == Exchange Rates, T2 = Daily Rates, we narrow down to the leaf category - 15, which has children length == 0\n",
    "for sub_category in res:\n",
    "    if sub_category[\"name\"] == T1:\n",
    "        res2 = fr.category.children(sub_category[\"id\"], response_type = 'dict')"
   ]
  },
  {
   "cell_type": "code",
   "execution_count": 114,
   "metadata": {
    "collapsed": false
   },
   "outputs": [
    {
     "name": "stdout",
     "output_type": "stream",
     "text": [
      "{u'parent_id': 15, u'notes': u'Effective January 1, 2009, the Federal Reserve Board discontinued publication of the H.10 Daily Update, which provided U.S. dollar exchange rates against other currencies certified for customs purposes by the Federal Reserve Bank of New York and summary measures of the foreign exchange value of the dollar.   \\r\\n The Federal Reserve Board still makes the certified exchange rates available.  Effective January 5, 2009, the Board publishes the daily exchange rate data in a weekly version of the H.10 release.\\r\\n As a result, the daily exchange rates in the FRED database will be updated once each week to capture the daily data from the previous week.', u'id': 94, u'name': u'Daily Rates'}\n",
      "-----------------\n",
      "{u'parent_id': 15, u'notes': u'Effective January 1, 2009, the Federal Reserve Board discontinued publication of the H.10 Daily Update, which provided U.S. dollar exchange rates against other currencies certified for customs purposes by the Federal Reserve Bank of New York and summary measures of the foreign exchange value of the dollar.   \\r\\n The Federal Reserve Board still makes the certified exchange rates available.  Effective January 5, 2009, the Board publishes the daily exchange rate data in a weekly version of the H.10 release.\\r\\n As a result, the daily exchange rates in the FRED database will be updated once each week to capture the daily data from the previous week.', u'id': 94, u'name': u'Daily Rates'}\n",
      "-----------------\n",
      "{u'parent_id': 15, u'notes': nan, u'id': 95, u'name': u'Monthly Rates'}\n",
      "{u'parent_id': 15, u'notes': nan, u'id': 32219, u'name': u'Annual Rates'}\n",
      "{u'parent_id': 15, u'notes': nan, u'id': 105, u'name': u'Trade-Weighted Indexes'}\n",
      "{u'parent_id': 15, u'notes': nan, u'id': 158, u'name': u'By Country'}\n"
     ]
    }
   ],
   "source": [
    "T2 = \"Daily Rates\"\n",
    "\n",
    "for sub_cat2 in res2:\n",
    "    print sub_cat2\n",
    "    if sub_cat2[\"name\"] == T2:\n",
    "        print \"-----------------\"\n",
    "        print sub_cat2\n",
    "        print \"-----------------\"\n",
    "        res3 = fr.category.children(sub_cat2[\"id\"], response_type = 'dict')"
   ]
  },
  {
   "cell_type": "code",
   "execution_count": 115,
   "metadata": {
    "collapsed": false
   },
   "outputs": [
    {
     "name": "stdout",
     "output_type": "stream",
     "text": [
      "[]\n"
     ]
    }
   ],
   "source": [
    "print res3\n",
    "# under category with parent_id == 15, there's no more sub categories.\n",
    "# so we switch to category.series(94)"
   ]
  },
  {
   "cell_type": "code",
   "execution_count": 121,
   "metadata": {
    "collapsed": false
   },
   "outputs": [],
   "source": [
    "# that's where we extract the series ID - 94 and do a fr.category.series() on it with tags being supplimented via params"
   ]
  },
  {
   "cell_type": "code",
   "execution_count": 118,
   "metadata": {
    "collapsed": false
   },
   "outputs": [
    {
     "name": "stdout",
     "output_type": "stream",
     "text": [
      "[{u'popularity': 68, u'last_updated': Timestamp('2016-11-07 21:41:47'), u'observation_start': Timestamp('1971-01-04 00:00:00'), u'title': u'Japan / U.S. Foreign Exchange Rate', u'seasonal_adjustment_short': u'NSA', u'seasonal_adjustment': u'Not Seasonally Adjusted', u'notes': u'Noon buying rates in New York City for cable transfers payable in foreign currencies.', u'observation_end': Timestamp('2016-11-04 00:00:00'), u'realtime_end': Timestamp('2016-11-08 00:00:00'), u'frequency': u'Daily', u'units_short': u'Japanese Yen to  1 U.S. $', u'units': u'Japanese Yen to One U.S. Dollar', u'realtime_start': Timestamp('2016-11-08 00:00:00'), u'id': u'DEXJPUS', u'frequency_short': u'D'}]\n",
      "----------\n",
      "DEXJPUS\n"
     ]
    }
   ],
   "source": [
    "# that's how we found the series ID.\n",
    "\n",
    "params = {\n",
    "         'limit':5,\n",
    "         'tag_names':'japan',\n",
    "         'order_by':'popularity',\n",
    "         'sort_order':'desc'\n",
    "         }\n",
    "\n",
    "res4 = fr.category.series(94, params = params, response_type = 'dict')\n",
    "print res4\n",
    "print '----------'\n",
    "for item in res4:\n",
    "    print item[\"id\"]"
   ]
  },
  {
   "cell_type": "code",
   "execution_count": null,
   "metadata": {
    "collapsed": true
   },
   "outputs": [],
   "source": []
  }
 ],
 "metadata": {
  "kernelspec": {
   "display_name": "Python 2",
   "language": "python",
   "name": "python2"
  },
  "language_info": {
   "codemirror_mode": {
    "name": "ipython",
    "version": 2
   },
   "file_extension": ".py",
   "mimetype": "text/x-python",
   "name": "python",
   "nbconvert_exporter": "python",
   "pygments_lexer": "ipython2",
   "version": "2.7.11"
  }
 },
 "nbformat": 4,
 "nbformat_minor": 0
}
